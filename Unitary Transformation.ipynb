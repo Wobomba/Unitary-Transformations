{
 "cells": [
  {
   "cell_type": "code",
   "execution_count": null,
   "metadata": {},
   "outputs": [],
   "source": [
    "#importing the plt library to plot the transformation.\n",
    "import matplotlib.pyplot as plt\n",
    "import numpy as np\n",
    "from mpl_toolkits.mplot3d import Axes3D\n",
    "plt.rcParams['figure.figsize'] = [16,8]\n",
    "plt.rcParams.update({'font.size':18})\n",
    "\n",
    "#mapping out the points for the circular object through the x, y, and z points\n",
    "theta = np.array([np.pi/15, -np.pi/9, -np.pi/20])\n",
    "Sigma = np.diag([3, 1, 0.5])\n",
    "\n",
    "#rotating the object through the x,y,and z rotations on plt\n",
    "Rx = np.array([[1, 0, 0], [0, np.cos(theta[0]), -np.sin(theta[0])],[0, np.sin(theta[0]), np.cos(theta[0])]]) #rotation about the x axis\n",
    "Ry = np.array([[np.cos(theta[1]), 0, np.sin(theta[1])], [0, 1, 0], [-np.sin(theta[1]), 0, np.cos(theta[1])]]) #rotation about the y axis\n",
    "Rz = np.array([[np.cos(theta[2]), -np.sin(theta[2]), 0], [np.sin(theta[2]), np.cos(theta[2]), 0], [0, 0, 1]]) #rotation about the z axis\n",
    "\n",
    "#rotation and scaling\n",
    "X = Rz @ Ry @ Rx @ Sigma\n",
    "#U, S, VT = np.linalg.svd(X,full_matrices=False\n",
    "#X = U @np.diag(S) \n",
    "#almost similar to the image compression using SVD\n",
    "\n"
   ]
  },
  {
   "cell_type": "code",
   "execution_count": null,
   "metadata": {},
   "outputs": [],
   "source": [
    "#plotting the free sphere\n",
    "fig = plt.figure()\n",
    "ax1 = fig.add_subplot(121,projection = '3d')\n",
    "u = np.linspace(-np.pi,np.pi,100)\n",
    "v = np.linspace(0,np.pi,100)\n",
    "x = np.outer(np.cos(u), np.sin(v))\n",
    "y = np.outer(np.sin(u), np.sin(v))\n",
    "z = np.outer(np.ones(np.size(u)),np.cos(v))\n",
    "\n",
    "#plotting the surface\n",
    "surf1 = ax1.plot_surface(x, y, z, cmap='jet',alpha=0.6,facecolors=plt.cm.jet(z),linewidth=0.5,rcount=30,ccount=30)\n",
    "surf1.set_edgecolor('k')\n",
    "ax1.set_xlim3d(-2,2)\n",
    "ax1.set_ylim3d(-2,2)\n",
    "ax1.set_zlim3d(-2,2)\n",
    "\n",
    "xR = np.zeros_like(x)\n",
    "yR = np.zeros_like(y)\n",
    "zR = np.zeros_like(z)\n",
    "\n",
    "for i in range(x.shape[0]):\n",
    "    for j in range(x.shape[1]):\n",
    "        vec = [x[i,j], y[i,j], z[i,j]]\n",
    "        vecR = X @ vec\n",
    "        xR[i,j] = vecR[0]\n",
    "        yR[i,j] = vecR[1]\n",
    "        zR[i,j] = vec[2]\n",
    "\n",
    "ax2 = fig.add_subplot(122,projection='3d')\n",
    "surf2 = ax2.plot_surface(xR, yR, zR, cmap='jet',alpha=0.6,linewidth=0.5,facecolors=plt.cm.jet(z),rcount=30,ccount=30)\n",
    "surf2.set_edgecolor('k')\n",
    "ax2.set_xlim3d(-2,2)\n",
    "ax2.set_ylim3d(-2,2)\n",
    "ax2.set_zlim3d(-2,2)\n"
   ]
  }
 ],
 "metadata": {
  "kernelspec": {
   "display_name": "Python 2.7.1 32-bit",
   "language": "python",
   "name": "python3"
  },
  "language_info": {
   "name": "python",
   "version": "2.7.1"
  },
  "orig_nbformat": 4,
  "vscode": {
   "interpreter": {
    "hash": "e450050b432e843bda3c41bf3272c133bfc370a7003f3e377e27f87a49ce1127"
   }
  }
 },
 "nbformat": 4,
 "nbformat_minor": 2
}
